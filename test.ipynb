{
 "cells": [
  {
   "cell_type": "code",
   "execution_count": 8,
   "metadata": {},
   "outputs": [],
   "source": [
    "import plotly.graph_objects as go\n",
    "from IPython.display import display\n",
    "\n",
    "def init_real_time_plot():\n",
    "    global fig_x, fig_y, fig_z\n",
    "    # Initialize figures with two traces each: actual values and moving averages\n",
    "    fig_x = go.FigureWidget(data=[\n",
    "        go.Scatter(x=[], y=[], mode='lines+markers', name='X Values'),\n",
    "        go.Scatter(x=[], y=[], mode='lines', name='X Moving Avg', line=dict(color='red'))])\n",
    "    fig_y = go.FigureWidget(data=[\n",
    "        go.Scatter(x=[], y=[], mode='lines+markers', name='Y Values'),\n",
    "        go.Scatter(x=[], y=[], mode='lines', name='Y Moving Avg', line=dict(color='red'))])\n",
    "    fig_z = go.FigureWidget(data=[\n",
    "        go.Scatter(x=[], y=[], mode='lines+markers', name='Z Values'),\n",
    "        go.Scatter(x=[], y=[], mode='lines', name='Z Moving Avg', line=dict(color='red'))])\n",
    "\n",
    "    # Set titles and display the figures\n",
    "    fig_x.update_layout(title_text='Real-Time X Values')\n",
    "    fig_y.update_layout(title_text='Real-Time Y Values')\n",
    "    fig_z.update_layout(title_text='Real-Time Z Values')\n",
    "    display(fig_x, fig_y, fig_z)\n",
    "\n"
   ]
  },
  {
   "cell_type": "code",
   "execution_count": 12,
   "metadata": {},
   "outputs": [],
   "source": [
    "def send_alert_to_microbit(serial_connection, message):\n",
    "    \"\"\"\n",
    "    Sends an alert message to the microbit via the serial connection.\n",
    "\n",
    "    Args:\n",
    "    - serial_connection: The open serial connection to the microbit.\n",
    "    - message: The message to send as a string.\n",
    "    \"\"\"\n",
    "    serial_connection.write(message.encode())\n",
    "    # serial_connection.close()"
   ]
  },
  {
   "cell_type": "code",
   "execution_count": 15,
   "metadata": {},
   "outputs": [],
   "source": [
    "import serial\n",
    "import time\n",
    "import plotly.graph_objects as go\n",
    "from plotly.subplots import make_subplots\n",
    "\n",
    "def read_serial_data(port, baud_rate=115200, timeout=1, duration=10):\n",
    "    \n",
    "    global ser\n",
    "    init_real_time_plot()  # Ensure you have initialized a Plotly FigureWidget globally\n",
    "    ser = serial.Serial(port, baud_rate, timeout=timeout)\n",
    "    end_time = time.time() + duration\n",
    "    value_index = 0  # Cycle through 0 (x), 1 (y), 2 (z)\n",
    "    sample_index = 0  # Increment for each new set of x, y, z values\n",
    "\n",
    "    \n",
    "    try:\n",
    "        while True: # if want to read data continuously\n",
    "        # while time.time() < end_time:  # Continuously read and plot data\n",
    "            if ser.in_waiting > 0:\n",
    "                data = ser.readline().decode('utf-8').strip()\n",
    "                if data:\n",
    "                    try:\n",
    "                        value = int(data)\n",
    "                        # Determine which plot to update based on value_index\n",
    "                        if value_index == 0:  # X value\n",
    "                            add_data_to_plot(ser, value, None, None, sample_index)\n",
    "                        elif value_index == 1:  # Y value\n",
    "                            add_data_to_plot(ser, None, value, None, sample_index)\n",
    "                        elif value_index == 2:  # Z value\n",
    "                            add_data_to_plot(ser, None, None, value, sample_index)\n",
    "                            sample_index += 1  # Increment sample_index after a full cycle\n",
    "                        \n",
    "                        value_index = (value_index + 1) % 3  # Cycle through 0, 1, 2\n",
    "                    except ValueError:\n",
    "                        pass  # Ignore non-integer values\n",
    "                time.sleep(0.1)  # Adjust based on your data rate\n",
    "    finally:\n",
    "        ser.close()\n"
   ]
  },
  {
   "cell_type": "code",
   "execution_count": 16,
   "metadata": {},
   "outputs": [],
   "source": [
    "# Define window size for the moving average\n",
    "N = 10  # Example window size\n",
    "# Initialize rolling windows for x, y, z values\n",
    "rolling_window_x, rolling_window_y, rolling_window_z = [], [], []\n",
    "\n",
    "THRESHOLD_X = -150\n",
    "THRESHOLD_Y = 250\n",
    "THRESHOLD_Z = 250\n",
    "\n",
    "def add_data_to_plot(serial_connection, x_new, y_new, z_new, sample_index):\n",
    "    global rolling_window_x, rolling_window_y, rolling_window_z\n",
    "    \n",
    "    # Update and calculate moving average for X values, check threshold\n",
    "    if x_new is not None:\n",
    "        rolling_window_x.append(x_new)\n",
    "        rolling_window_x = rolling_window_x[-N:]\n",
    "        x_moving_avg = sum(rolling_window_x) / len(rolling_window_x)\n",
    "        \n",
    "        with fig_x.batch_update():\n",
    "            fig_x.data[0].x += (sample_index,)\n",
    "            fig_x.data[0].y += (x_new,)\n",
    "            fig_x.data[1].x += (sample_index,)\n",
    "            fig_x.data[1].y += (x_moving_avg,)\n",
    "        \n",
    "        if x_moving_avg > THRESHOLD_X:\n",
    "            # print('alertx')\n",
    "            send_alert_to_microbit(serial_connection, \"Alert X\")\n",
    "\n",
    "    # Repeat the process for Y and Z values\n",
    "    if y_new is not None:\n",
    "        rolling_window_y.append(y_new)\n",
    "        rolling_window_y = rolling_window_y[-N:]\n",
    "        y_moving_avg = sum(rolling_window_y) / len(rolling_window_y)\n",
    "        \n",
    "        with fig_y.batch_update():\n",
    "            fig_y.data[0].x += (sample_index,)\n",
    "            fig_y.data[0].y += (y_new,)\n",
    "            fig_y.data[1].x += (sample_index,)\n",
    "            fig_y.data[1].y += (y_moving_avg,)\n",
    "            \n",
    "        # if y_moving_avg > THRESHOLD_Y:\n",
    "        #     # print('alerty')\n",
    "        #     send_alert_to_microbit(serial_connection, \"Alert Y\")\n",
    "            \n",
    "    if z_new is not None:\n",
    "        rolling_window_z.append(z_new)\n",
    "        rolling_window_z = rolling_window_z[-N:]\n",
    "        z_moving_avg = sum(rolling_window_z) / len(rolling_window_z)\n",
    "        \n",
    "        with fig_z.batch_update():\n",
    "            fig_z.data[0].x += (sample_index,)\n",
    "            fig_z.data[0].y += (z_new,)\n",
    "            fig_z.data[1].x += (sample_index,)\n",
    "            fig_z.data[1].y += (z_moving_avg,)\n",
    "        \n",
    "        if z_moving_avg > THRESHOLD_Z:\n",
    "            # print('alertz')\n",
    "            send_alert_to_microbit(serial_connection, \"Alert Z\")\n"
   ]
  },
  {
   "cell_type": "code",
   "execution_count": 17,
   "metadata": {},
   "outputs": [
    {
     "data": {
      "application/vnd.jupyter.widget-view+json": {
       "model_id": "f6ca02b2ac2b48ccb75cff1301251bd4",
       "version_major": 2,
       "version_minor": 0
      },
      "text/plain": [
       "FigureWidget({\n",
       "    'data': [{'mode': 'lines+markers',\n",
       "              'name': 'X Values',\n",
       "              'type': 'scatter',\n",
       "              'uid': 'fa743e4c-7bfd-470e-b590-c37ef628cf50',\n",
       "              'x': [],\n",
       "              'y': []},\n",
       "             {'line': {'color': 'red'},\n",
       "              'mode': 'lines',\n",
       "              'name': 'X Moving Avg',\n",
       "              'type': 'scatter',\n",
       "              'uid': 'f1f24c50-ebe2-440f-8c8d-2302b70f1c97',\n",
       "              'x': [],\n",
       "              'y': []}],\n",
       "    'layout': {'template': '...', 'title': {'text': 'Real-Time X Values'}}\n",
       "})"
      ]
     },
     "metadata": {},
     "output_type": "display_data"
    },
    {
     "data": {
      "application/vnd.jupyter.widget-view+json": {
       "model_id": "e2e6930d415145eb9b6b39231006c1cc",
       "version_major": 2,
       "version_minor": 0
      },
      "text/plain": [
       "FigureWidget({\n",
       "    'data': [{'mode': 'lines+markers',\n",
       "              'name': 'Y Values',\n",
       "              'type': 'scatter',\n",
       "              'uid': '88400ddd-994b-4078-8110-716100a41a1b',\n",
       "              'x': [],\n",
       "              'y': []},\n",
       "             {'line': {'color': 'red'},\n",
       "              'mode': 'lines',\n",
       "              'name': 'Y Moving Avg',\n",
       "              'type': 'scatter',\n",
       "              'uid': '5cf7868a-e78b-4f67-8d62-ccdbc6eba987',\n",
       "              'x': [],\n",
       "              'y': []}],\n",
       "    'layout': {'template': '...', 'title': {'text': 'Real-Time Y Values'}}\n",
       "})"
      ]
     },
     "metadata": {},
     "output_type": "display_data"
    },
    {
     "data": {
      "application/vnd.jupyter.widget-view+json": {
       "model_id": "4e04891ee21c4a9fbfc54578e1b965e9",
       "version_major": 2,
       "version_minor": 0
      },
      "text/plain": [
       "FigureWidget({\n",
       "    'data': [{'mode': 'lines+markers',\n",
       "              'name': 'Z Values',\n",
       "              'type': 'scatter',\n",
       "              'uid': 'bb26c07f-272b-4984-98ed-0c1c4278c492',\n",
       "              'x': [],\n",
       "              'y': []},\n",
       "             {'line': {'color': 'red'},\n",
       "              'mode': 'lines',\n",
       "              'name': 'Z Moving Avg',\n",
       "              'type': 'scatter',\n",
       "              'uid': '34b66112-13fc-4ddf-856d-4bc7d59c5407',\n",
       "              'x': [],\n",
       "              'y': []}],\n",
       "    'layout': {'template': '...', 'title': {'text': 'Real-Time Z Values'}}\n",
       "})"
      ]
     },
     "metadata": {},
     "output_type": "display_data"
    },
    {
     "ename": "KeyboardInterrupt",
     "evalue": "",
     "output_type": "error",
     "traceback": [
      "\u001b[0;31m---------------------------------------------------------------------------\u001b[0m",
      "\u001b[0;31mKeyboardInterrupt\u001b[0m                         Traceback (most recent call last)",
      "Cell \u001b[0;32mIn[17], line 2\u001b[0m\n\u001b[1;32m      1\u001b[0m port \u001b[38;5;241m=\u001b[39m \u001b[38;5;124m'\u001b[39m\u001b[38;5;124m/dev/tty.usbmodem21402\u001b[39m\u001b[38;5;124m'\u001b[39m  \u001b[38;5;66;03m# Example for Linux/Mac. Use 'COM#' for Windows.\u001b[39;00m\n\u001b[0;32m----> 2\u001b[0m \u001b[43mread_serial_data\u001b[49m\u001b[43m(\u001b[49m\u001b[43mport\u001b[49m\u001b[43m,\u001b[49m\u001b[43m \u001b[49m\u001b[43mduration\u001b[49m\u001b[38;5;241;43m=\u001b[39;49m\u001b[38;5;241;43m15\u001b[39;49m\u001b[43m)\u001b[49m  \u001b[38;5;66;03m# Read data for 10 seconds\u001b[39;00m\n",
      "Cell \u001b[0;32mIn[15], line 36\u001b[0m, in \u001b[0;36mread_serial_data\u001b[0;34m(port, baud_rate, timeout, duration)\u001b[0m\n\u001b[1;32m     34\u001b[0m                 \u001b[38;5;28;01mexcept\u001b[39;00m \u001b[38;5;167;01mValueError\u001b[39;00m:\n\u001b[1;32m     35\u001b[0m                     \u001b[38;5;28;01mpass\u001b[39;00m  \u001b[38;5;66;03m# Ignore non-integer values\u001b[39;00m\n\u001b[0;32m---> 36\u001b[0m             \u001b[43mtime\u001b[49m\u001b[38;5;241;43m.\u001b[39;49m\u001b[43msleep\u001b[49m\u001b[43m(\u001b[49m\u001b[38;5;241;43m0.1\u001b[39;49m\u001b[43m)\u001b[49m  \u001b[38;5;66;03m# Adjust based on your data rate\u001b[39;00m\n\u001b[1;32m     37\u001b[0m \u001b[38;5;28;01mfinally\u001b[39;00m:\n\u001b[1;32m     38\u001b[0m     ser\u001b[38;5;241m.\u001b[39mclose()\n",
      "\u001b[0;31mKeyboardInterrupt\u001b[0m: "
     ]
    }
   ],
   "source": [
    "port = '/dev/tty.usbmodem21402'  # Example for Linux/Mac. Use 'COM#' for Windows.\n",
    "read_serial_data(port, duration=15)  # Read data for 10 seconds\n",
    "\n"
   ]
  },
  {
   "cell_type": "code",
   "execution_count": null,
   "metadata": {},
   "outputs": [],
   "source": []
  }
 ],
 "metadata": {
  "kernelspec": {
   "display_name": "Python 3",
   "language": "python",
   "name": "python3"
  },
  "language_info": {
   "codemirror_mode": {
    "name": "ipython",
    "version": 3
   },
   "file_extension": ".py",
   "mimetype": "text/x-python",
   "name": "python",
   "nbconvert_exporter": "python",
   "pygments_lexer": "ipython3",
   "version": "3.8.8"
  }
 },
 "nbformat": 4,
 "nbformat_minor": 2
}
